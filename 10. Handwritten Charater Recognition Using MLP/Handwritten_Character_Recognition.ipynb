{
  "nbformat": 4,
  "nbformat_minor": 0,
  "metadata": {
    "colab": {
      "provenance": [],
      "gpuType": "T4"
    },
    "kernelspec": {
      "name": "python3",
      "display_name": "Python 3"
    },
    "language_info": {
      "name": "python"
    },
    "accelerator": "GPU",
    "widgets": {
      "application/vnd.jupyter.widget-state+json": {
        "82f507d1ac3a463883083b263a1e23bd": {
          "model_module": "@jupyter-widgets/controls",
          "model_name": "VBoxModel",
          "model_module_version": "1.5.0",
          "state": {
            "_dom_classes": [],
            "_model_module": "@jupyter-widgets/controls",
            "_model_module_version": "1.5.0",
            "_model_name": "VBoxModel",
            "_view_count": null,
            "_view_module": "@jupyter-widgets/controls",
            "_view_module_version": "1.5.0",
            "_view_name": "VBoxView",
            "box_style": "",
            "children": [
              "IPY_MODEL_7032cf1162e44c0f94146526c4ae76d3",
              "IPY_MODEL_0be87e94cf9944af9d7819b246959220"
            ],
            "layout": "IPY_MODEL_de6bce90210945c89fb0d4e05a6a5f1b"
          }
        },
        "7032cf1162e44c0f94146526c4ae76d3": {
          "model_module": "@jupyter-widgets/controls",
          "model_name": "LabelModel",
          "model_module_version": "1.5.0",
          "state": {
            "_dom_classes": [],
            "_model_module": "@jupyter-widgets/controls",
            "_model_module_version": "1.5.0",
            "_model_name": "LabelModel",
            "_view_count": null,
            "_view_module": "@jupyter-widgets/controls",
            "_view_module_version": "1.5.0",
            "_view_name": "LabelView",
            "description": "",
            "description_tooltip": null,
            "layout": "IPY_MODEL_fc65229a9a8648378902185fd9941256",
            "placeholder": "​",
            "style": "IPY_MODEL_3c92273773ae4e91aa79a44251658f75",
            "value": "0.010 MB of 0.010 MB uploaded\r"
          }
        },
        "0be87e94cf9944af9d7819b246959220": {
          "model_module": "@jupyter-widgets/controls",
          "model_name": "FloatProgressModel",
          "model_module_version": "1.5.0",
          "state": {
            "_dom_classes": [],
            "_model_module": "@jupyter-widgets/controls",
            "_model_module_version": "1.5.0",
            "_model_name": "FloatProgressModel",
            "_view_count": null,
            "_view_module": "@jupyter-widgets/controls",
            "_view_module_version": "1.5.0",
            "_view_name": "ProgressView",
            "bar_style": "",
            "description": "",
            "description_tooltip": null,
            "layout": "IPY_MODEL_d25b59423d56467788d768c08a0c4311",
            "max": 1,
            "min": 0,
            "orientation": "horizontal",
            "style": "IPY_MODEL_7c3817a77ec24855a80587f84491dd10",
            "value": 1
          }
        },
        "de6bce90210945c89fb0d4e05a6a5f1b": {
          "model_module": "@jupyter-widgets/base",
          "model_name": "LayoutModel",
          "model_module_version": "1.2.0",
          "state": {
            "_model_module": "@jupyter-widgets/base",
            "_model_module_version": "1.2.0",
            "_model_name": "LayoutModel",
            "_view_count": null,
            "_view_module": "@jupyter-widgets/base",
            "_view_module_version": "1.2.0",
            "_view_name": "LayoutView",
            "align_content": null,
            "align_items": null,
            "align_self": null,
            "border": null,
            "bottom": null,
            "display": null,
            "flex": null,
            "flex_flow": null,
            "grid_area": null,
            "grid_auto_columns": null,
            "grid_auto_flow": null,
            "grid_auto_rows": null,
            "grid_column": null,
            "grid_gap": null,
            "grid_row": null,
            "grid_template_areas": null,
            "grid_template_columns": null,
            "grid_template_rows": null,
            "height": null,
            "justify_content": null,
            "justify_items": null,
            "left": null,
            "margin": null,
            "max_height": null,
            "max_width": null,
            "min_height": null,
            "min_width": null,
            "object_fit": null,
            "object_position": null,
            "order": null,
            "overflow": null,
            "overflow_x": null,
            "overflow_y": null,
            "padding": null,
            "right": null,
            "top": null,
            "visibility": null,
            "width": null
          }
        },
        "fc65229a9a8648378902185fd9941256": {
          "model_module": "@jupyter-widgets/base",
          "model_name": "LayoutModel",
          "model_module_version": "1.2.0",
          "state": {
            "_model_module": "@jupyter-widgets/base",
            "_model_module_version": "1.2.0",
            "_model_name": "LayoutModel",
            "_view_count": null,
            "_view_module": "@jupyter-widgets/base",
            "_view_module_version": "1.2.0",
            "_view_name": "LayoutView",
            "align_content": null,
            "align_items": null,
            "align_self": null,
            "border": null,
            "bottom": null,
            "display": null,
            "flex": null,
            "flex_flow": null,
            "grid_area": null,
            "grid_auto_columns": null,
            "grid_auto_flow": null,
            "grid_auto_rows": null,
            "grid_column": null,
            "grid_gap": null,
            "grid_row": null,
            "grid_template_areas": null,
            "grid_template_columns": null,
            "grid_template_rows": null,
            "height": null,
            "justify_content": null,
            "justify_items": null,
            "left": null,
            "margin": null,
            "max_height": null,
            "max_width": null,
            "min_height": null,
            "min_width": null,
            "object_fit": null,
            "object_position": null,
            "order": null,
            "overflow": null,
            "overflow_x": null,
            "overflow_y": null,
            "padding": null,
            "right": null,
            "top": null,
            "visibility": null,
            "width": null
          }
        },
        "3c92273773ae4e91aa79a44251658f75": {
          "model_module": "@jupyter-widgets/controls",
          "model_name": "DescriptionStyleModel",
          "model_module_version": "1.5.0",
          "state": {
            "_model_module": "@jupyter-widgets/controls",
            "_model_module_version": "1.5.0",
            "_model_name": "DescriptionStyleModel",
            "_view_count": null,
            "_view_module": "@jupyter-widgets/base",
            "_view_module_version": "1.2.0",
            "_view_name": "StyleView",
            "description_width": ""
          }
        },
        "d25b59423d56467788d768c08a0c4311": {
          "model_module": "@jupyter-widgets/base",
          "model_name": "LayoutModel",
          "model_module_version": "1.2.0",
          "state": {
            "_model_module": "@jupyter-widgets/base",
            "_model_module_version": "1.2.0",
            "_model_name": "LayoutModel",
            "_view_count": null,
            "_view_module": "@jupyter-widgets/base",
            "_view_module_version": "1.2.0",
            "_view_name": "LayoutView",
            "align_content": null,
            "align_items": null,
            "align_self": null,
            "border": null,
            "bottom": null,
            "display": null,
            "flex": null,
            "flex_flow": null,
            "grid_area": null,
            "grid_auto_columns": null,
            "grid_auto_flow": null,
            "grid_auto_rows": null,
            "grid_column": null,
            "grid_gap": null,
            "grid_row": null,
            "grid_template_areas": null,
            "grid_template_columns": null,
            "grid_template_rows": null,
            "height": null,
            "justify_content": null,
            "justify_items": null,
            "left": null,
            "margin": null,
            "max_height": null,
            "max_width": null,
            "min_height": null,
            "min_width": null,
            "object_fit": null,
            "object_position": null,
            "order": null,
            "overflow": null,
            "overflow_x": null,
            "overflow_y": null,
            "padding": null,
            "right": null,
            "top": null,
            "visibility": null,
            "width": null
          }
        },
        "7c3817a77ec24855a80587f84491dd10": {
          "model_module": "@jupyter-widgets/controls",
          "model_name": "ProgressStyleModel",
          "model_module_version": "1.5.0",
          "state": {
            "_model_module": "@jupyter-widgets/controls",
            "_model_module_version": "1.5.0",
            "_model_name": "ProgressStyleModel",
            "_view_count": null,
            "_view_module": "@jupyter-widgets/base",
            "_view_module_version": "1.2.0",
            "_view_name": "StyleView",
            "bar_color": null,
            "description_width": ""
          }
        },
        "53e234ff336145ccba2339c56fcc09b9": {
          "model_module": "@jupyter-widgets/controls",
          "model_name": "VBoxModel",
          "model_module_version": "1.5.0",
          "state": {
            "_dom_classes": [],
            "_model_module": "@jupyter-widgets/controls",
            "_model_module_version": "1.5.0",
            "_model_name": "VBoxModel",
            "_view_count": null,
            "_view_module": "@jupyter-widgets/controls",
            "_view_module_version": "1.5.0",
            "_view_name": "VBoxView",
            "box_style": "",
            "children": [
              "IPY_MODEL_9a4d62b6eb754cfab9316e70c8bdc573",
              "IPY_MODEL_d4be04e2022b466da24420cf5b4cf959"
            ],
            "layout": "IPY_MODEL_d1c48bb4b8494ae9abd38a157b439dd6"
          }
        },
        "9a4d62b6eb754cfab9316e70c8bdc573": {
          "model_module": "@jupyter-widgets/controls",
          "model_name": "LabelModel",
          "model_module_version": "1.5.0",
          "state": {
            "_dom_classes": [],
            "_model_module": "@jupyter-widgets/controls",
            "_model_module_version": "1.5.0",
            "_model_name": "LabelModel",
            "_view_count": null,
            "_view_module": "@jupyter-widgets/controls",
            "_view_module_version": "1.5.0",
            "_view_name": "LabelView",
            "description": "",
            "description_tooltip": null,
            "layout": "IPY_MODEL_64cd2531c3304b07a7e662733a9c4d54",
            "placeholder": "​",
            "style": "IPY_MODEL_4c572b2a54ec4223ae5aa971bfb8fc5f",
            "value": "0.015 MB of 0.015 MB uploaded\r"
          }
        },
        "d4be04e2022b466da24420cf5b4cf959": {
          "model_module": "@jupyter-widgets/controls",
          "model_name": "FloatProgressModel",
          "model_module_version": "1.5.0",
          "state": {
            "_dom_classes": [],
            "_model_module": "@jupyter-widgets/controls",
            "_model_module_version": "1.5.0",
            "_model_name": "FloatProgressModel",
            "_view_count": null,
            "_view_module": "@jupyter-widgets/controls",
            "_view_module_version": "1.5.0",
            "_view_name": "ProgressView",
            "bar_style": "",
            "description": "",
            "description_tooltip": null,
            "layout": "IPY_MODEL_de414a71167f487ca167c90c4fd57e1b",
            "max": 1,
            "min": 0,
            "orientation": "horizontal",
            "style": "IPY_MODEL_8b1502e3ec994e2c9cdcf68375862c95",
            "value": 1
          }
        },
        "d1c48bb4b8494ae9abd38a157b439dd6": {
          "model_module": "@jupyter-widgets/base",
          "model_name": "LayoutModel",
          "model_module_version": "1.2.0",
          "state": {
            "_model_module": "@jupyter-widgets/base",
            "_model_module_version": "1.2.0",
            "_model_name": "LayoutModel",
            "_view_count": null,
            "_view_module": "@jupyter-widgets/base",
            "_view_module_version": "1.2.0",
            "_view_name": "LayoutView",
            "align_content": null,
            "align_items": null,
            "align_self": null,
            "border": null,
            "bottom": null,
            "display": null,
            "flex": null,
            "flex_flow": null,
            "grid_area": null,
            "grid_auto_columns": null,
            "grid_auto_flow": null,
            "grid_auto_rows": null,
            "grid_column": null,
            "grid_gap": null,
            "grid_row": null,
            "grid_template_areas": null,
            "grid_template_columns": null,
            "grid_template_rows": null,
            "height": null,
            "justify_content": null,
            "justify_items": null,
            "left": null,
            "margin": null,
            "max_height": null,
            "max_width": null,
            "min_height": null,
            "min_width": null,
            "object_fit": null,
            "object_position": null,
            "order": null,
            "overflow": null,
            "overflow_x": null,
            "overflow_y": null,
            "padding": null,
            "right": null,
            "top": null,
            "visibility": null,
            "width": null
          }
        },
        "64cd2531c3304b07a7e662733a9c4d54": {
          "model_module": "@jupyter-widgets/base",
          "model_name": "LayoutModel",
          "model_module_version": "1.2.0",
          "state": {
            "_model_module": "@jupyter-widgets/base",
            "_model_module_version": "1.2.0",
            "_model_name": "LayoutModel",
            "_view_count": null,
            "_view_module": "@jupyter-widgets/base",
            "_view_module_version": "1.2.0",
            "_view_name": "LayoutView",
            "align_content": null,
            "align_items": null,
            "align_self": null,
            "border": null,
            "bottom": null,
            "display": null,
            "flex": null,
            "flex_flow": null,
            "grid_area": null,
            "grid_auto_columns": null,
            "grid_auto_flow": null,
            "grid_auto_rows": null,
            "grid_column": null,
            "grid_gap": null,
            "grid_row": null,
            "grid_template_areas": null,
            "grid_template_columns": null,
            "grid_template_rows": null,
            "height": null,
            "justify_content": null,
            "justify_items": null,
            "left": null,
            "margin": null,
            "max_height": null,
            "max_width": null,
            "min_height": null,
            "min_width": null,
            "object_fit": null,
            "object_position": null,
            "order": null,
            "overflow": null,
            "overflow_x": null,
            "overflow_y": null,
            "padding": null,
            "right": null,
            "top": null,
            "visibility": null,
            "width": null
          }
        },
        "4c572b2a54ec4223ae5aa971bfb8fc5f": {
          "model_module": "@jupyter-widgets/controls",
          "model_name": "DescriptionStyleModel",
          "model_module_version": "1.5.0",
          "state": {
            "_model_module": "@jupyter-widgets/controls",
            "_model_module_version": "1.5.0",
            "_model_name": "DescriptionStyleModel",
            "_view_count": null,
            "_view_module": "@jupyter-widgets/base",
            "_view_module_version": "1.2.0",
            "_view_name": "StyleView",
            "description_width": ""
          }
        },
        "de414a71167f487ca167c90c4fd57e1b": {
          "model_module": "@jupyter-widgets/base",
          "model_name": "LayoutModel",
          "model_module_version": "1.2.0",
          "state": {
            "_model_module": "@jupyter-widgets/base",
            "_model_module_version": "1.2.0",
            "_model_name": "LayoutModel",
            "_view_count": null,
            "_view_module": "@jupyter-widgets/base",
            "_view_module_version": "1.2.0",
            "_view_name": "LayoutView",
            "align_content": null,
            "align_items": null,
            "align_self": null,
            "border": null,
            "bottom": null,
            "display": null,
            "flex": null,
            "flex_flow": null,
            "grid_area": null,
            "grid_auto_columns": null,
            "grid_auto_flow": null,
            "grid_auto_rows": null,
            "grid_column": null,
            "grid_gap": null,
            "grid_row": null,
            "grid_template_areas": null,
            "grid_template_columns": null,
            "grid_template_rows": null,
            "height": null,
            "justify_content": null,
            "justify_items": null,
            "left": null,
            "margin": null,
            "max_height": null,
            "max_width": null,
            "min_height": null,
            "min_width": null,
            "object_fit": null,
            "object_position": null,
            "order": null,
            "overflow": null,
            "overflow_x": null,
            "overflow_y": null,
            "padding": null,
            "right": null,
            "top": null,
            "visibility": null,
            "width": null
          }
        },
        "8b1502e3ec994e2c9cdcf68375862c95": {
          "model_module": "@jupyter-widgets/controls",
          "model_name": "ProgressStyleModel",
          "model_module_version": "1.5.0",
          "state": {
            "_model_module": "@jupyter-widgets/controls",
            "_model_module_version": "1.5.0",
            "_model_name": "ProgressStyleModel",
            "_view_count": null,
            "_view_module": "@jupyter-widgets/base",
            "_view_module_version": "1.2.0",
            "_view_name": "StyleView",
            "bar_color": null,
            "description_width": ""
          }
        }
      }
    }
  },
  "cells": [
    {
      "cell_type": "code",
      "execution_count": 1,
      "metadata": {
        "colab": {
          "base_uri": "https://localhost:8080/"
        },
        "id": "7ljFYN7SJJSk",
        "outputId": "71fc38c5-9647-4d10-84da-c54483cd03a1"
      },
      "outputs": [
        {
          "output_type": "stream",
          "name": "stdout",
          "text": [
            "\u001b[2K     \u001b[90m━━━━━━━━━━━━━━━━━━━━━━━━━━━━━━━━━━━━━━━━\u001b[0m \u001b[32m2.2/2.2 MB\u001b[0m \u001b[31m8.9 MB/s\u001b[0m eta \u001b[36m0:00:00\u001b[0m\n",
            "\u001b[2K     \u001b[90m━━━━━━━━━━━━━━━━━━━━━━━━━━━━━━━━━━━━━━━━\u001b[0m \u001b[32m195.4/195.4 kB\u001b[0m \u001b[31m4.0 MB/s\u001b[0m eta \u001b[36m0:00:00\u001b[0m\n",
            "\u001b[2K     \u001b[90m━━━━━━━━━━━━━━━━━━━━━━━━━━━━━━━━━━━━━━━━\u001b[0m \u001b[32m264.6/264.6 kB\u001b[0m \u001b[31m14.9 MB/s\u001b[0m eta \u001b[36m0:00:00\u001b[0m\n",
            "\u001b[2K     \u001b[90m━━━━━━━━━━━━━━━━━━━━━━━━━━━━━━━━━━━━━━━━\u001b[0m \u001b[32m62.7/62.7 kB\u001b[0m \u001b[31m5.8 MB/s\u001b[0m eta \u001b[36m0:00:00\u001b[0m\n",
            "\u001b[?25h"
          ]
        }
      ],
      "source": [
        "# installing wandb\n",
        "!pip install wandb -qU"
      ]
    },
    {
      "cell_type": "code",
      "source": [
        "# initiating wandb\n",
        "import wandb\n",
        "wandb.login()\n",
        "wandb.init(\n",
        "    project =  \"MLP on MNIST\",\n",
        "    config = {\n",
        "        \"epochs\":25,\n",
        "        \"batch_size\":100,\n",
        "        \"lr\":0.001\n",
        "    }\n",
        ")\n",
        "config = wandb.config"
      ],
      "metadata": {
        "colab": {
          "base_uri": "https://localhost:8080/",
          "height": 208,
          "referenced_widgets": [
            "82f507d1ac3a463883083b263a1e23bd",
            "7032cf1162e44c0f94146526c4ae76d3",
            "0be87e94cf9944af9d7819b246959220",
            "de6bce90210945c89fb0d4e05a6a5f1b",
            "fc65229a9a8648378902185fd9941256",
            "3c92273773ae4e91aa79a44251658f75",
            "d25b59423d56467788d768c08a0c4311",
            "7c3817a77ec24855a80587f84491dd10"
          ]
        },
        "id": "hU38J3pV9d_T",
        "outputId": "63f257f7-3e02-4e0a-dd0c-d525c299222f"
      },
      "execution_count": 4,
      "outputs": [
        {
          "output_type": "stream",
          "name": "stderr",
          "text": [
            "\u001b[34m\u001b[1mwandb\u001b[0m: \u001b[33mWARNING\u001b[0m Calling wandb.login() after wandb.init() has no effect.\n"
          ]
        },
        {
          "output_type": "display_data",
          "data": {
            "text/plain": [
              "<IPython.core.display.HTML object>"
            ],
            "text/html": [
              "Finishing last run (ID:thc81rhv) before initializing another..."
            ]
          },
          "metadata": {}
        },
        {
          "output_type": "display_data",
          "data": {
            "text/plain": [
              "VBox(children=(Label(value='0.001 MB of 0.001 MB uploaded\\r'), FloatProgress(value=1.0, max=1.0)))"
            ],
            "application/vnd.jupyter.widget-view+json": {
              "version_major": 2,
              "version_minor": 0,
              "model_id": "82f507d1ac3a463883083b263a1e23bd"
            }
          },
          "metadata": {}
        },
        {
          "output_type": "display_data",
          "data": {
            "text/plain": [
              "<IPython.core.display.HTML object>"
            ],
            "text/html": [
              " View run <strong style=\"color:#cdcd00\">fearless-butterfly-1</strong> at: <a href='https://wandb.ai/personal-exp/MLP%20on%20MNIST/runs/thc81rhv' target=\"_blank\">https://wandb.ai/personal-exp/MLP%20on%20MNIST/runs/thc81rhv</a><br/>Synced 5 W&B file(s), 0 media file(s), 0 artifact file(s) and 0 other file(s)"
            ]
          },
          "metadata": {}
        },
        {
          "output_type": "display_data",
          "data": {
            "text/plain": [
              "<IPython.core.display.HTML object>"
            ],
            "text/html": [
              "Find logs at: <code>./wandb/run-20240323_014432-thc81rhv/logs</code>"
            ]
          },
          "metadata": {}
        },
        {
          "output_type": "display_data",
          "data": {
            "text/plain": [
              "<IPython.core.display.HTML object>"
            ],
            "text/html": [
              "Successfully finished last run (ID:thc81rhv). Initializing new run:<br/>"
            ]
          },
          "metadata": {}
        },
        {
          "output_type": "display_data",
          "data": {
            "text/plain": [
              "<IPython.core.display.HTML object>"
            ],
            "text/html": [
              "Tracking run with wandb version 0.16.4"
            ]
          },
          "metadata": {}
        },
        {
          "output_type": "display_data",
          "data": {
            "text/plain": [
              "<IPython.core.display.HTML object>"
            ],
            "text/html": [
              "Run data is saved locally in <code>/content/wandb/run-20240323_020545-8om95t44</code>"
            ]
          },
          "metadata": {}
        },
        {
          "output_type": "display_data",
          "data": {
            "text/plain": [
              "<IPython.core.display.HTML object>"
            ],
            "text/html": [
              "Syncing run <strong><a href='https://wandb.ai/personal-exp/MLP%20on%20MNIST/runs/8om95t44' target=\"_blank\">dark-wind-2</a></strong> to <a href='https://wandb.ai/personal-exp/MLP%20on%20MNIST' target=\"_blank\">Weights & Biases</a> (<a href='https://wandb.me/run' target=\"_blank\">docs</a>)<br/>"
            ]
          },
          "metadata": {}
        },
        {
          "output_type": "display_data",
          "data": {
            "text/plain": [
              "<IPython.core.display.HTML object>"
            ],
            "text/html": [
              " View project at <a href='https://wandb.ai/personal-exp/MLP%20on%20MNIST' target=\"_blank\">https://wandb.ai/personal-exp/MLP%20on%20MNIST</a>"
            ]
          },
          "metadata": {}
        },
        {
          "output_type": "display_data",
          "data": {
            "text/plain": [
              "<IPython.core.display.HTML object>"
            ],
            "text/html": [
              " View run at <a href='https://wandb.ai/personal-exp/MLP%20on%20MNIST/runs/8om95t44' target=\"_blank\">https://wandb.ai/personal-exp/MLP%20on%20MNIST/runs/8om95t44</a>"
            ]
          },
          "metadata": {}
        }
      ]
    },
    {
      "cell_type": "code",
      "source": [
        "import torch\n",
        "import torch.nn as nn\n",
        "import torchvision.datasets as datasets\n",
        "import torchvision.transforms as transforms\n",
        "from torch.utils.data import DataLoader"
      ],
      "metadata": {
        "id": "lcrbm96C-0c1"
      },
      "execution_count": 18,
      "outputs": []
    },
    {
      "cell_type": "code",
      "source": [
        "# network architecture variables\n",
        "\n",
        "input_size = 784 # number of input neurons (28 x2 28)\n",
        "hidden_layer_size = 400 # (784+10)/2\n",
        "output_size = 10"
      ],
      "metadata": {
        "id": "p9zZsFiCC1ht"
      },
      "execution_count": 6,
      "outputs": []
    },
    {
      "cell_type": "code",
      "source": [
        "# import MNIST from trochvision\n",
        "\n",
        "train_dataset = datasets.MNIST(\n",
        "    root = './data',\n",
        "    train=True,\n",
        "    transform=transforms.ToTensor(),\n",
        "    download = True\n",
        ")\n",
        "\n",
        "\n",
        "test_dataset = datasets.MNIST(\n",
        "    root = './data',\n",
        "    train=False,\n",
        "    transform=transforms.ToTensor(),\n",
        "    download = True\n",
        ")\n",
        "\n"
      ],
      "metadata": {
        "id": "9g8qP3jaDs3U"
      },
      "execution_count": 8,
      "outputs": []
    },
    {
      "cell_type": "code",
      "source": [
        "type(train_dataset)"
      ],
      "metadata": {
        "colab": {
          "base_uri": "https://localhost:8080/",
          "height": 204
        },
        "id": "S8TgN1WSE0fz",
        "outputId": "fb0c42dd-b5ba-46a4-9c06-6dbcaef7d6ae"
      },
      "execution_count": 12,
      "outputs": [
        {
          "output_type": "execute_result",
          "data": {
            "text/plain": [
              "torchvision.datasets.mnist.MNIST"
            ],
            "text/html": [
              "<div style=\"max-width:800px; border: 1px solid var(--colab-border-color);\"><style>\n",
              "      pre.function-repr-contents {\n",
              "        overflow-x: auto;\n",
              "        padding: 8px 12px;\n",
              "        max-height: 500px;\n",
              "      }\n",
              "\n",
              "      pre.function-repr-contents.function-repr-contents-collapsed {\n",
              "        cursor: pointer;\n",
              "        max-height: 100px;\n",
              "      }\n",
              "    </style>\n",
              "    <pre style=\"white-space: initial; background:\n",
              "         var(--colab-secondary-surface-color); padding: 8px 12px;\n",
              "         border-bottom: 1px solid var(--colab-border-color);\"><b>torchvision.datasets.mnist.MNIST</b><br/>def __init__(root: str, train: bool=True, transform: Optional[Callable]=None, target_transform: Optional[Callable]=None, download: bool=False) -&gt; None</pre><pre class=\"function-repr-contents function-repr-contents-collapsed\" style=\"\"><a class=\"filepath\" style=\"display:none\" href=\"#\">/usr/local/lib/python3.10/dist-packages/torchvision/datasets/mnist.py</a>`MNIST &lt;http://yann.lecun.com/exdb/mnist/&gt;`_ Dataset.\n",
              "\n",
              "Args:\n",
              "    root (string): Root directory of dataset where ``MNIST/raw/train-images-idx3-ubyte``\n",
              "        and  ``MNIST/raw/t10k-images-idx3-ubyte`` exist.\n",
              "    train (bool, optional): If True, creates dataset from ``train-images-idx3-ubyte``,\n",
              "        otherwise from ``t10k-images-idx3-ubyte``.\n",
              "    download (bool, optional): If True, downloads the dataset from the internet and\n",
              "        puts it in root directory. If dataset is already downloaded, it is not\n",
              "        downloaded again.\n",
              "    transform (callable, optional): A function/transform that  takes in an PIL image\n",
              "        and returns a transformed version. E.g, ``transforms.RandomCrop``\n",
              "    target_transform (callable, optional): A function/transform that takes in the\n",
              "        target and transforms it.</pre>\n",
              "      <script>\n",
              "      if (google.colab.kernel.accessAllowed && google.colab.files && google.colab.files.view) {\n",
              "        for (const element of document.querySelectorAll('.filepath')) {\n",
              "          element.style.display = 'block'\n",
              "          element.onclick = (event) => {\n",
              "            event.preventDefault();\n",
              "            event.stopPropagation();\n",
              "            google.colab.files.view(element.textContent, 19);\n",
              "          };\n",
              "        }\n",
              "      }\n",
              "      for (const element of document.querySelectorAll('.function-repr-contents')) {\n",
              "        element.onclick = (event) => {\n",
              "          event.preventDefault();\n",
              "          event.stopPropagation();\n",
              "          element.classList.toggle('function-repr-contents-collapsed');\n",
              "        };\n",
              "      }\n",
              "      </script>\n",
              "      </div>"
            ]
          },
          "metadata": {},
          "execution_count": 12
        }
      ]
    },
    {
      "cell_type": "code",
      "source": [
        "# create tarining and testing data batches\n",
        "\n",
        "train_loader = DataLoader(\n",
        "    dataset=train_dataset,\n",
        "    batch_size=config.batch_size,\n",
        "    shuffle = True\n",
        ")\n",
        "\n",
        "\n",
        "test_loader = DataLoader(\n",
        "    dataset=test_dataset,\n",
        "    batch_size=config.batch_size,\n",
        "    shuffle = True\n",
        ")"
      ],
      "metadata": {
        "id": "6HUV54AhFwhV"
      },
      "execution_count": 15,
      "outputs": []
    },
    {
      "cell_type": "code",
      "source": [
        "# define our network architechture\n",
        "\n",
        "class MNISTNet(nn.Module):\n",
        "\n",
        "    def __init__(self,input_size, hidden_layer_size, output_size ):\n",
        "      super(MNISTNet,self).__init__()\n",
        "      self.fc1 = nn.Linear(input_size,hidden_layer_size)\n",
        "      self.fc2 = nn.Linear(hidden_layer_size, hidden_layer_size)\n",
        "      self.fc3 = nn.Linear(hidden_layer_size, output_size)\n",
        "      self.relu = nn.ReLU()\n",
        "      # new addition -> define initiaol weights\n",
        "      self.init_weights()\n",
        "\n",
        "    # Weight initilization Functioin\n",
        "    def init_weights(self):\n",
        "      nn.init.kaiming_normal_(self.fc1.weight)\n",
        "      nn.init.kaiming_normal_(self.fc2.weight)\n",
        "\n",
        "\n",
        "    def forward(self,x):\n",
        "      out =self.fc1(x)\n",
        "      out = self.relu(out)\n",
        "      out =self.fc2(out)\n",
        "      out = self.relu(out)\n",
        "      out =self.fc3(out)\n",
        "      return out\n",
        "\n",
        "\n",
        "\n"
      ],
      "metadata": {
        "id": "P7lZaOJPGgA0"
      },
      "execution_count": 31,
      "outputs": []
    },
    {
      "cell_type": "code",
      "source": [
        "# Preprare for training\n",
        "\n",
        "network = MNISTNet(input_size,hidden_layer_size,output_size)\n",
        "\n",
        "# Deploying our network in GPU\n",
        "CUDA = torch.cuda.is_available()\n",
        "\n",
        "if CUDA:\n",
        "  network = network.cuda()\n",
        "\n",
        "# loss function and optimizer\n",
        "\n",
        "loss_fn = nn.CrossEntropyLoss()\n",
        "optimizer = torch.optim.Adam(network.parameters(), lr=config.lr)\n"
      ],
      "metadata": {
        "id": "G7bCGI4cGqox"
      },
      "execution_count": 32,
      "outputs": []
    },
    {
      "cell_type": "code",
      "source": [
        "# training loop\n",
        "for epoch in range(config.epochs):\n",
        "  # correct training prediction\n",
        "  correct_train = 0\n",
        "  # loss for epoch\n",
        "  updating_loss = 0\n",
        "\n",
        "  for index, (images,lables) in enumerate(train_loader):\n",
        "    # print(images.shape)\n",
        "    images=images.view(-1,28*28)\n",
        "    # print(images.shape)\n",
        "\n",
        "    # deploying inputs into GPU\n",
        "    if CUDA:\n",
        "      imnages =images.CUDA()\n",
        "    # feedforward\n",
        "\n",
        "    outputs = network(images)\n",
        "\n",
        "    # calculating the loss\n",
        "    loss = loss_fn(outputs,lables)\n",
        "    updating_loss += loss.item()\n",
        "\n",
        "    #backpropergatrion\n",
        "    optimizer.zero_grad()\n",
        "    loss.backward()\n",
        "    optimizer.step()\n",
        "    # print(outputs.shape)\n",
        "\n",
        "    _, predicted_index =torch.max(outputs.data,1)\n",
        "    # print(predicted_index)\n",
        "    correct_train += (predicted_index == lables).sum()\n",
        "\n",
        "  params = {\n",
        "      \"Epoch\": epoch+1,\n",
        "      \"Accuracy\": (correct_train/len(train_loader)),\n",
        "      \"Loss\": updating_loss/len(train_loader)\n",
        "  }\n",
        "  wandb.log(params)\n",
        "  print(f\"Epoch: {epoch+1}/{config.epochs}, Accuracy{(correct_train/len(train_loader))}, Loss{ updating_loss/len(train_loader)}\")\n",
        "\n",
        "wandb.finish()\n",
        "print(\"Training is done\")"
      ],
      "metadata": {
        "colab": {
          "base_uri": "https://localhost:8080/",
          "height": 678,
          "referenced_widgets": [
            "53e234ff336145ccba2339c56fcc09b9",
            "9a4d62b6eb754cfab9316e70c8bdc573",
            "d4be04e2022b466da24420cf5b4cf959",
            "d1c48bb4b8494ae9abd38a157b439dd6",
            "64cd2531c3304b07a7e662733a9c4d54",
            "4c572b2a54ec4223ae5aa971bfb8fc5f",
            "de414a71167f487ca167c90c4fd57e1b",
            "8b1502e3ec994e2c9cdcf68375862c95"
          ]
        },
        "id": "44krXXSHPZlA",
        "outputId": "a7d13b82-f978-40de-8715-9e019e14bc20"
      },
      "execution_count": 39,
      "outputs": [
        {
          "output_type": "stream",
          "name": "stdout",
          "text": [
            "Epoch: 1/25, Accuracy97.35832977294922, Loss0.08575785223705074\n",
            "Epoch: 2/25, Accuracy98.3116683959961, Loss0.0540973250203145\n",
            "Epoch: 3/25, Accuracy98.81500244140625, Loss0.03732735993495832\n",
            "Epoch: 4/25, Accuracy99.09666442871094, Loss0.028724789929110556\n",
            "Epoch: 5/25, Accuracy99.23500061035156, Loss0.022708206125438057\n",
            "Epoch: 6/25, Accuracy99.34833526611328, Loss0.01965440045169089\n",
            "Epoch: 7/25, Accuracy99.51499938964844, Loss0.014916488672351989\n",
            "Epoch: 8/25, Accuracy99.48666381835938, Loss0.016127073539125073\n",
            "Epoch: 9/25, Accuracy99.63500213623047, Loss0.010951292690612414\n",
            "Epoch: 10/25, Accuracy99.54000091552734, Loss0.013597390659870144\n",
            "Epoch: 11/25, Accuracy99.73999786376953, Loss0.007859065110860684\n",
            "Epoch: 12/25, Accuracy99.66999816894531, Loss0.010111801418467318\n",
            "Epoch: 13/25, Accuracy99.60832977294922, Loss0.013455175367419088\n",
            "Epoch: 14/25, Accuracy99.6933364868164, Loss0.009056998004105784\n",
            "Epoch: 15/25, Accuracy99.83833312988281, Loss0.004911492367858349\n",
            "Epoch: 16/25, Accuracy99.82166290283203, Loss0.005707323920105789\n",
            "Epoch: 17/25, Accuracy99.58333587646484, Loss0.012874285616307853\n",
            "Epoch: 18/25, Accuracy99.76000213623047, Loss0.007814687990177541\n",
            "Epoch: 19/25, Accuracy99.7316665649414, Loss0.008762441899800705\n",
            "Epoch: 20/25, Accuracy99.84333038330078, Loss0.005236036579827517\n",
            "Epoch: 21/25, Accuracy99.7750015258789, Loss0.006878063513834149\n",
            "Epoch: 22/25, Accuracy99.72000122070312, Loss0.009664647103103335\n",
            "Epoch: 23/25, Accuracy99.87166595458984, Loss0.0035733962214351323\n",
            "Epoch: 24/25, Accuracy99.81999969482422, Loss0.005579474357189345\n",
            "Epoch: 25/25, Accuracy99.79166412353516, Loss0.006750797512006296\n"
          ]
        },
        {
          "output_type": "display_data",
          "data": {
            "text/plain": [
              "VBox(children=(Label(value='0.001 MB of 0.001 MB uploaded\\r'), FloatProgress(value=1.0, max=1.0)))"
            ],
            "application/vnd.jupyter.widget-view+json": {
              "version_major": 2,
              "version_minor": 0,
              "model_id": "53e234ff336145ccba2339c56fcc09b9"
            }
          },
          "metadata": {}
        },
        {
          "output_type": "display_data",
          "data": {
            "text/plain": [
              "<IPython.core.display.HTML object>"
            ],
            "text/html": [
              "<style>\n",
              "    table.wandb td:nth-child(1) { padding: 0 10px; text-align: left ; width: auto;} td:nth-child(2) {text-align: left ; width: 100%}\n",
              "    .wandb-row { display: flex; flex-direction: row; flex-wrap: wrap; justify-content: flex-start; width: 100% }\n",
              "    .wandb-col { display: flex; flex-direction: column; flex-basis: 100%; flex: 1; padding: 10px; }\n",
              "    </style>\n",
              "<div class=\"wandb-row\"><div class=\"wandb-col\"><h3>Run history:</h3><br/><table class=\"wandb\"><tr><td>Accuracy</td><td>▁▄▅▆▆▇▇▇▇▇█▇▇███▇████████</td></tr><tr><td>Epoch</td><td>▁▁▂▂▂▂▃▃▃▄▄▄▅▅▅▅▆▆▆▇▇▇▇██</td></tr><tr><td>Loss</td><td>█▅▄▃▃▂▂▂▂▂▁▂▂▁▁▁▂▁▁▁▁▂▁▁▁</td></tr></table><br/></div><div class=\"wandb-col\"><h3>Run summary:</h3><br/><table class=\"wandb\"><tr><td>Accuracy</td><td>99.79166</td></tr><tr><td>Epoch</td><td>25</td></tr><tr><td>Loss</td><td>0.00675</td></tr></table><br/></div></div>"
            ]
          },
          "metadata": {}
        },
        {
          "output_type": "display_data",
          "data": {
            "text/plain": [
              "<IPython.core.display.HTML object>"
            ],
            "text/html": [
              " View run <strong style=\"color:#cdcd00\">dark-wind-2</strong> at: <a href='https://wandb.ai/personal-exp/MLP%20on%20MNIST/runs/8om95t44' target=\"_blank\">https://wandb.ai/personal-exp/MLP%20on%20MNIST/runs/8om95t44</a><br/>Synced 5 W&B file(s), 0 media file(s), 0 artifact file(s) and 0 other file(s)"
            ]
          },
          "metadata": {}
        },
        {
          "output_type": "display_data",
          "data": {
            "text/plain": [
              "<IPython.core.display.HTML object>"
            ],
            "text/html": [
              "Find logs at: <code>./wandb/run-20240323_020545-8om95t44/logs</code>"
            ]
          },
          "metadata": {}
        },
        {
          "output_type": "stream",
          "name": "stdout",
          "text": [
            "Training is done\n"
          ]
        }
      ]
    }
  ]
}