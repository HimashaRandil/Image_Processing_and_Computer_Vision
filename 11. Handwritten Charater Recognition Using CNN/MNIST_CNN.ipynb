{
  "nbformat": 4,
  "nbformat_minor": 0,
  "metadata": {
    "colab": {
      "provenance": [],
      "gpuType": "T4"
    },
    "kernelspec": {
      "name": "python3",
      "display_name": "Python 3"
    },
    "language_info": {
      "name": "python"
    },
    "accelerator": "GPU",
    "widgets": {
      "application/vnd.jupyter.widget-state+json": {
        "0fe6f6fa73b54225bcc040b56335ec94": {
          "model_module": "@jupyter-widgets/controls",
          "model_name": "VBoxModel",
          "model_module_version": "1.5.0",
          "state": {
            "_dom_classes": [],
            "_model_module": "@jupyter-widgets/controls",
            "_model_module_version": "1.5.0",
            "_model_name": "VBoxModel",
            "_view_count": null,
            "_view_module": "@jupyter-widgets/controls",
            "_view_module_version": "1.5.0",
            "_view_name": "VBoxView",
            "box_style": "",
            "children": [
              "IPY_MODEL_2fb11410a60d444bbe8a330ccf686773",
              "IPY_MODEL_0efcd2a011674a5f9f348f199958030a"
            ],
            "layout": "IPY_MODEL_559150b8dcef45268c1ee540ad62a04b"
          }
        },
        "2fb11410a60d444bbe8a330ccf686773": {
          "model_module": "@jupyter-widgets/controls",
          "model_name": "LabelModel",
          "model_module_version": "1.5.0",
          "state": {
            "_dom_classes": [],
            "_model_module": "@jupyter-widgets/controls",
            "_model_module_version": "1.5.0",
            "_model_name": "LabelModel",
            "_view_count": null,
            "_view_module": "@jupyter-widgets/controls",
            "_view_module_version": "1.5.0",
            "_view_name": "LabelView",
            "description": "",
            "description_tooltip": null,
            "layout": "IPY_MODEL_caedd834bd7f424d8a2607c4ca15aec2",
            "placeholder": "​",
            "style": "IPY_MODEL_afb9ec85be0146d3b2adb29a8b688a7c",
            "value": "0.011 MB of 0.011 MB uploaded\r"
          }
        },
        "0efcd2a011674a5f9f348f199958030a": {
          "model_module": "@jupyter-widgets/controls",
          "model_name": "FloatProgressModel",
          "model_module_version": "1.5.0",
          "state": {
            "_dom_classes": [],
            "_model_module": "@jupyter-widgets/controls",
            "_model_module_version": "1.5.0",
            "_model_name": "FloatProgressModel",
            "_view_count": null,
            "_view_module": "@jupyter-widgets/controls",
            "_view_module_version": "1.5.0",
            "_view_name": "ProgressView",
            "bar_style": "",
            "description": "",
            "description_tooltip": null,
            "layout": "IPY_MODEL_c361ce3df1ed4cc5922b408109d74be0",
            "max": 1,
            "min": 0,
            "orientation": "horizontal",
            "style": "IPY_MODEL_d2d029f300314969b75c2eeb13a10e1c",
            "value": 1
          }
        },
        "559150b8dcef45268c1ee540ad62a04b": {
          "model_module": "@jupyter-widgets/base",
          "model_name": "LayoutModel",
          "model_module_version": "1.2.0",
          "state": {
            "_model_module": "@jupyter-widgets/base",
            "_model_module_version": "1.2.0",
            "_model_name": "LayoutModel",
            "_view_count": null,
            "_view_module": "@jupyter-widgets/base",
            "_view_module_version": "1.2.0",
            "_view_name": "LayoutView",
            "align_content": null,
            "align_items": null,
            "align_self": null,
            "border": null,
            "bottom": null,
            "display": null,
            "flex": null,
            "flex_flow": null,
            "grid_area": null,
            "grid_auto_columns": null,
            "grid_auto_flow": null,
            "grid_auto_rows": null,
            "grid_column": null,
            "grid_gap": null,
            "grid_row": null,
            "grid_template_areas": null,
            "grid_template_columns": null,
            "grid_template_rows": null,
            "height": null,
            "justify_content": null,
            "justify_items": null,
            "left": null,
            "margin": null,
            "max_height": null,
            "max_width": null,
            "min_height": null,
            "min_width": null,
            "object_fit": null,
            "object_position": null,
            "order": null,
            "overflow": null,
            "overflow_x": null,
            "overflow_y": null,
            "padding": null,
            "right": null,
            "top": null,
            "visibility": null,
            "width": null
          }
        },
        "caedd834bd7f424d8a2607c4ca15aec2": {
          "model_module": "@jupyter-widgets/base",
          "model_name": "LayoutModel",
          "model_module_version": "1.2.0",
          "state": {
            "_model_module": "@jupyter-widgets/base",
            "_model_module_version": "1.2.0",
            "_model_name": "LayoutModel",
            "_view_count": null,
            "_view_module": "@jupyter-widgets/base",
            "_view_module_version": "1.2.0",
            "_view_name": "LayoutView",
            "align_content": null,
            "align_items": null,
            "align_self": null,
            "border": null,
            "bottom": null,
            "display": null,
            "flex": null,
            "flex_flow": null,
            "grid_area": null,
            "grid_auto_columns": null,
            "grid_auto_flow": null,
            "grid_auto_rows": null,
            "grid_column": null,
            "grid_gap": null,
            "grid_row": null,
            "grid_template_areas": null,
            "grid_template_columns": null,
            "grid_template_rows": null,
            "height": null,
            "justify_content": null,
            "justify_items": null,
            "left": null,
            "margin": null,
            "max_height": null,
            "max_width": null,
            "min_height": null,
            "min_width": null,
            "object_fit": null,
            "object_position": null,
            "order": null,
            "overflow": null,
            "overflow_x": null,
            "overflow_y": null,
            "padding": null,
            "right": null,
            "top": null,
            "visibility": null,
            "width": null
          }
        },
        "afb9ec85be0146d3b2adb29a8b688a7c": {
          "model_module": "@jupyter-widgets/controls",
          "model_name": "DescriptionStyleModel",
          "model_module_version": "1.5.0",
          "state": {
            "_model_module": "@jupyter-widgets/controls",
            "_model_module_version": "1.5.0",
            "_model_name": "DescriptionStyleModel",
            "_view_count": null,
            "_view_module": "@jupyter-widgets/base",
            "_view_module_version": "1.2.0",
            "_view_name": "StyleView",
            "description_width": ""
          }
        },
        "c361ce3df1ed4cc5922b408109d74be0": {
          "model_module": "@jupyter-widgets/base",
          "model_name": "LayoutModel",
          "model_module_version": "1.2.0",
          "state": {
            "_model_module": "@jupyter-widgets/base",
            "_model_module_version": "1.2.0",
            "_model_name": "LayoutModel",
            "_view_count": null,
            "_view_module": "@jupyter-widgets/base",
            "_view_module_version": "1.2.0",
            "_view_name": "LayoutView",
            "align_content": null,
            "align_items": null,
            "align_self": null,
            "border": null,
            "bottom": null,
            "display": null,
            "flex": null,
            "flex_flow": null,
            "grid_area": null,
            "grid_auto_columns": null,
            "grid_auto_flow": null,
            "grid_auto_rows": null,
            "grid_column": null,
            "grid_gap": null,
            "grid_row": null,
            "grid_template_areas": null,
            "grid_template_columns": null,
            "grid_template_rows": null,
            "height": null,
            "justify_content": null,
            "justify_items": null,
            "left": null,
            "margin": null,
            "max_height": null,
            "max_width": null,
            "min_height": null,
            "min_width": null,
            "object_fit": null,
            "object_position": null,
            "order": null,
            "overflow": null,
            "overflow_x": null,
            "overflow_y": null,
            "padding": null,
            "right": null,
            "top": null,
            "visibility": null,
            "width": null
          }
        },
        "d2d029f300314969b75c2eeb13a10e1c": {
          "model_module": "@jupyter-widgets/controls",
          "model_name": "ProgressStyleModel",
          "model_module_version": "1.5.0",
          "state": {
            "_model_module": "@jupyter-widgets/controls",
            "_model_module_version": "1.5.0",
            "_model_name": "ProgressStyleModel",
            "_view_count": null,
            "_view_module": "@jupyter-widgets/base",
            "_view_module_version": "1.2.0",
            "_view_name": "StyleView",
            "bar_color": null,
            "description_width": ""
          }
        }
      }
    }
  },
  "cells": [
    {
      "cell_type": "code",
      "source": [
        "!pip install wandb -qU"
      ],
      "metadata": {
        "colab": {
          "base_uri": "https://localhost:8080/"
        },
        "id": "zXleEEhmanhY",
        "outputId": "c0dd56cb-1f2d-446d-9e24-8d2baff89887"
      },
      "execution_count": 1,
      "outputs": [
        {
          "output_type": "stream",
          "name": "stdout",
          "text": [
            "\u001b[2K     \u001b[90m━━━━━━━━━━━━━━━━━━━━━━━━━━━━━━━━━━━━━━━━\u001b[0m \u001b[32m2.2/2.2 MB\u001b[0m \u001b[31m7.1 MB/s\u001b[0m eta \u001b[36m0:00:00\u001b[0m\n",
            "\u001b[2K     \u001b[90m━━━━━━━━━━━━━━━━━━━━━━━━━━━━━━━━━━━━━━━━\u001b[0m \u001b[32m195.4/195.4 kB\u001b[0m \u001b[31m11.0 MB/s\u001b[0m eta \u001b[36m0:00:00\u001b[0m\n",
            "\u001b[2K     \u001b[90m━━━━━━━━━━━━━━━━━━━━━━━━━━━━━━━━━━━━━━━━\u001b[0m \u001b[32m264.6/264.6 kB\u001b[0m \u001b[31m8.4 MB/s\u001b[0m eta \u001b[36m0:00:00\u001b[0m\n",
            "\u001b[2K     \u001b[90m━━━━━━━━━━━━━━━━━━━━━━━━━━━━━━━━━━━━━━━━\u001b[0m \u001b[32m62.7/62.7 kB\u001b[0m \u001b[31m3.3 MB/s\u001b[0m eta \u001b[36m0:00:00\u001b[0m\n",
            "\u001b[?25h"
          ]
        }
      ]
    },
    {
      "cell_type": "code",
      "execution_count": 2,
      "metadata": {
        "id": "xyj3mWHOZsWW"
      },
      "outputs": [],
      "source": [
        "# import\n",
        "import cv2 #opencv\n",
        "import torch\n",
        "import torch.nn as nn\n",
        "import torchvision.datasets as datasets\n",
        "import torchvision.transforms as transforms\n",
        "from torch.autograd import Variable # auto gradient feature\n",
        "import matplotlib.pyplot as plt\n",
        "from PIL import Image\n",
        "import numpy as np"
      ]
    },
    {
      "cell_type": "code",
      "source": [
        "import wandb\n",
        "wandb.login()\n",
        "wandb.init(\n",
        "    project =  \"CNN on MNIST\",\n",
        "    config = {\n",
        "        \"epochs\":5,\n",
        "        \"batch_size\":100,\n",
        "        \"lr\":0.001\n",
        "    }\n",
        ")\n",
        "config = wandb.config"
      ],
      "metadata": {
        "colab": {
          "base_uri": "https://localhost:8080/",
          "height": 104
        },
        "id": "eCgMBA7xa-T4",
        "outputId": "a48eddcb-94ef-458b-97eb-a1da30ce9ad4"
      },
      "execution_count": 24,
      "outputs": [
        {
          "output_type": "display_data",
          "data": {
            "text/plain": [
              "<IPython.core.display.HTML object>"
            ],
            "text/html": [
              "Tracking run with wandb version 0.16.4"
            ]
          },
          "metadata": {}
        },
        {
          "output_type": "display_data",
          "data": {
            "text/plain": [
              "<IPython.core.display.HTML object>"
            ],
            "text/html": [
              "Run data is saved locally in <code>/content/wandb/run-20240323_151615-qijngfj1</code>"
            ]
          },
          "metadata": {}
        },
        {
          "output_type": "display_data",
          "data": {
            "text/plain": [
              "<IPython.core.display.HTML object>"
            ],
            "text/html": [
              "Syncing run <strong><a href='https://wandb.ai/personal-exp/CNN%20on%20MNIST/runs/qijngfj1' target=\"_blank\">major-meadow-4</a></strong> to <a href='https://wandb.ai/personal-exp/CNN%20on%20MNIST' target=\"_blank\">Weights & Biases</a> (<a href='https://wandb.me/run' target=\"_blank\">docs</a>)<br/>"
            ]
          },
          "metadata": {}
        },
        {
          "output_type": "display_data",
          "data": {
            "text/plain": [
              "<IPython.core.display.HTML object>"
            ],
            "text/html": [
              " View project at <a href='https://wandb.ai/personal-exp/CNN%20on%20MNIST' target=\"_blank\">https://wandb.ai/personal-exp/CNN%20on%20MNIST</a>"
            ]
          },
          "metadata": {}
        },
        {
          "output_type": "display_data",
          "data": {
            "text/plain": [
              "<IPython.core.display.HTML object>"
            ],
            "text/html": [
              " View run at <a href='https://wandb.ai/personal-exp/CNN%20on%20MNIST/runs/qijngfj1' target=\"_blank\">https://wandb.ai/personal-exp/CNN%20on%20MNIST/runs/qijngfj1</a>"
            ]
          },
          "metadata": {}
        }
      ]
    },
    {
      "cell_type": "code",
      "source": [
        "# data transformers --> Image normalization, converting to tensors\n",
        "\n",
        "# Tese values are used to normalize the image tensors\n",
        "\n",
        "mean = 0.1307\n",
        "std = 0.3081\n",
        "\n",
        "# Transormer for train and test data\n",
        "transform_original = transforms.Compose([\n",
        "    transforms.ToTensor(),\n",
        "    transforms.Normalize(mean,std)\n",
        "])\n",
        "\n",
        "# Transformer for new images\n",
        "transform_inference = transforms.Compose([\n",
        "    transforms.Resize((28,28)),\n",
        "    transforms.ToTensor(),\n",
        "    transforms.Normalize(mean,std)\n",
        "])\n"
      ],
      "metadata": {
        "id": "ovRZvf4KbUXr"
      },
      "execution_count": 25,
      "outputs": []
    },
    {
      "cell_type": "code",
      "source": [
        "# loading the train and test data\n",
        "\n",
        "train_dataset = datasets.MNIST(\n",
        "    root = './data',\n",
        "    train = True,\n",
        "    transform = transform_original,\n",
        "    download=True\n",
        ")\n",
        "\n",
        "test_dataset = datasets.MNIST(\n",
        "    root = './data',\n",
        "    train = False,\n",
        "    transform = transform_original,\n",
        "    download=True\n",
        ")"
      ],
      "metadata": {
        "id": "kNt65kwveY4R"
      },
      "execution_count": 26,
      "outputs": []
    },
    {
      "cell_type": "code",
      "source": [
        "# creating training and testing minibatches\n",
        "\n",
        "train_loader = torch.utils.data.DataLoader(\n",
        "    dataset=train_dataset,\n",
        "    batch_size=config.batch_size,\n",
        "    shuffle = True\n",
        ")\n",
        "\n",
        "test_loader = torch.utils.data.DataLoader(\n",
        "    dataset=test_dataset,\n",
        "    batch_size=config.batch_size,\n",
        "    shuffle = True\n",
        ")\n",
        "\n",
        "print(f\"No of Images in the train dataset: {len(train_dataset)}\")\n",
        "print(f\"No of Images in the test dataset: {len(test_dataset)}\")\n",
        "print(f\"No of Batches in the train mini bactht: {len(train_loader)}\")\n",
        "print(f\"No of Batches in the test mini bactht: {len(test_loader)}\")"
      ],
      "metadata": {
        "colab": {
          "base_uri": "https://localhost:8080/"
        },
        "id": "OrWH2whCfC9F",
        "outputId": "cc52beb4-ceeb-498e-a9c9-1870791c0326"
      },
      "execution_count": 27,
      "outputs": [
        {
          "output_type": "stream",
          "name": "stdout",
          "text": [
            "No of Images in the train dataset: 60000\n",
            "No of Images in the test dataset: 10000\n",
            "No of Batches in the train mini bactht: 600\n",
            "No of Batches in the test mini bactht: 100\n"
          ]
        }
      ]
    },
    {
      "cell_type": "code",
      "source": [
        "# defining the network architecture\n",
        "\n",
        "class CNN(nn.Module):\n",
        "  def __init__(self):\n",
        "    super(CNN,self).__init__()\n",
        "    # first CNN layer\n",
        "    self.cnn1 = nn.Conv2d(in_channels=1,out_channels=8, kernel_size=3, stride=1, padding=1)\n",
        "    self.batchnorm1 = nn.BatchNorm2d(8)# Batch normalization --> output feature maps of the first convolution layer\n",
        "    self.relu = nn.ReLU()# ReLu Activation\n",
        "    self.maxpool1 = nn.MaxPool2d(kernel_size=2)# max pooling\n",
        "\n",
        "    # now the image is 14 x 14\n",
        "    self.cnn2 = nn.Conv2d(in_channels=8,out_channels=32, kernel_size=3, stride=1, padding=1)\n",
        "    self.batchnorm2 = nn.BatchNorm2d(32)\n",
        "    self.relu = nn.ReLU()\n",
        "    self.maxpool2 = nn.MaxPool2d(kernel_size=2)\n",
        "\n",
        "    # FCL\n",
        "    self.fc1 = nn.Linear(\n",
        "        in_features=1568,\n",
        "        out_features=650,\n",
        "    )\n",
        "\n",
        "    # dropout layer\n",
        "    self.dropout = nn.Dropout(p=0.8)\n",
        "\n",
        "    # FCL\n",
        "    self.fc2 = nn.Linear(\n",
        "        in_features=650,\n",
        "        out_features=10,\n",
        "    )\n",
        "\n",
        "  def forward(self,input_image):\n",
        "    # CNN1\n",
        "    out = self.cnn1(input_image)\n",
        "    out = self.batchnorm1(out)\n",
        "    out = self.relu(out)\n",
        "    out = self.maxpool1(out)\n",
        "\n",
        "    # CNN2\n",
        "    out = self.cnn2(out)\n",
        "    out = self.batchnorm2(out)\n",
        "    out = self.relu(out)\n",
        "    out = self.maxpool2(out)\n",
        "\n",
        "    # Flatterning the feature map\n",
        "    out = out.view(-1,1568)\n",
        "\n",
        "    # Fully connected Layers\n",
        "    out = self.fc1(out)\n",
        "    out = self.relu(out)\n",
        "    out = self.dropout(out)\n",
        "    out = self.fc2(out)\n",
        "\n",
        "    return out\n"
      ],
      "metadata": {
        "id": "ebhxYXytg159"
      },
      "execution_count": 28,
      "outputs": []
    },
    {
      "cell_type": "code",
      "source": [
        "# initializing the objects\n",
        "\n",
        "cnn = CNN()\n",
        "\n",
        "CUDA = torch.cuda.is_available()\n",
        "\n",
        "if CUDA:\n",
        "  cnn = cnn.cuda()\n",
        "\n",
        "loss = nn.CrossEntropyLoss()\n",
        "optimizer = torch.optim.Adam(cnn.parameters(),config.lr)"
      ],
      "metadata": {
        "id": "iRL3jZObjboh"
      },
      "execution_count": 30,
      "outputs": []
    },
    {
      "cell_type": "code",
      "source": [
        "train_loss = []\n",
        "test_loss = []\n",
        "train_accuracy = []\n",
        "test_accuracy = []\n",
        "\n",
        "\n",
        "\n",
        "for epoch in range(config.epochs):\n",
        "  iteration = 0\n",
        "  correct_predictions = 0\n",
        "  iteration_loss = 0\n",
        "\n",
        "  # model on train mode\n",
        "  cnn.train()\n",
        "  # print(f\"iteration {i+1} is starting...\")\n",
        "  for i, (inputs,lables) in enumerate(train_loader):\n",
        "    inputs = Variable(inputs)\n",
        "    lables = Variable(lables)\n",
        "\n",
        "    # Deploy inputs and lables into the GPU\n",
        "\n",
        "    inputs = inputs.cuda()\n",
        "    lables = lables.cuda()\n",
        "\n",
        "    optimizer.zero_grad()\n",
        "\n",
        "    output = cnn(inputs)\n",
        "    loss_val = loss(output,lables)\n",
        "    lteration_loss = iteration_loss+ loss_val.item()\n",
        "\n",
        "    # backpropergation\n",
        "    loss_val.backward()\n",
        "    optimizer.step()\n",
        "\n",
        "    # gettingh the number with highest probability\n",
        "    _, predicted_numbers = torch.max(output,1)\n",
        "\n",
        "    correct_predictions = correct_predictions + (predicted_numbers == lables.data).sum()\n",
        "    iteration =iteration+1\n",
        "    train_accuracy.append((correct_predictions/len(train_loader)*100))\n",
        "\n",
        "    # Testing\n",
        "    test_loss = 0\n",
        "    test_correct = 0\n",
        "    iteration = 0\n",
        "\n",
        "    # evaluation mode - Desable backprop\n",
        "    cnn.eval()\n",
        "\n",
        "  for i, (inputs, lables) in enumerate(test_loader):\n",
        "    inputs = Variable(inputs)\n",
        "    lables = Variable(lables)\n",
        "\n",
        "    # Deploy inputs and lables into the GPU\n",
        "\n",
        "    inputs = inputs.cuda()\n",
        "    lables = lables.cuda()\n",
        "\n",
        "    output = cnn(inputs)\n",
        "    loss_val = loss(output,lables)\n",
        "    test_loss = test_loss + loss_val.item()\n",
        "\n",
        "\n",
        "    # gettingh the number with highest probability\n",
        "    _, predicted_numbers = torch.max(output,1)\n",
        "\n",
        "    test_correct = test_correct + (predicted_numbers == lables.data).sum()\n",
        "    iteration =iteration+1\n",
        "    test_accuracy = [].append((correct_predictions/len(test_loader)*100))\n",
        "\n",
        "\n",
        "\n",
        "\n",
        "  params = {\n",
        "      \"Epoch\": epoch+1,\n",
        "      \"Train Accuracy\": (correct_predictions/len(train_loader)),\n",
        "      \"Train Loss\": lteration_loss/len(train_loader),\n",
        "      \"Test Accuracy\": (test_correct/len(test_loader)),\n",
        "      \"Test Loss\": test_loss/len(test_loader)\n",
        "  }\n",
        "  wandb.log(params)\n",
        "  print(f\"Epoch: {epoch+1}/{config.epochs}, Train Accuracy: {(correct_predictions/len(train_loader))}, Train Loss: { lteration_loss/len(train_loader)}, Test Accuracy: {(test_correct/len(test_loader))}, Test Loss: { test_loss/len(test_loader)}\")\n",
        "\n",
        "wandb.finish()\n",
        "print(\"Training is done\")\n",
        "\n"
      ],
      "metadata": {
        "colab": {
          "base_uri": "https://localhost:8080/",
          "height": 453,
          "referenced_widgets": [
            "0fe6f6fa73b54225bcc040b56335ec94",
            "2fb11410a60d444bbe8a330ccf686773",
            "0efcd2a011674a5f9f348f199958030a",
            "559150b8dcef45268c1ee540ad62a04b",
            "caedd834bd7f424d8a2607c4ca15aec2",
            "afb9ec85be0146d3b2adb29a8b688a7c",
            "c361ce3df1ed4cc5922b408109d74be0",
            "d2d029f300314969b75c2eeb13a10e1c"
          ]
        },
        "id": "Qu4bCOHCseF9",
        "outputId": "6bafdb3c-6e45-4a5a-f500-e9bd60b66df6"
      },
      "execution_count": 31,
      "outputs": [
        {
          "output_type": "stream",
          "name": "stdout",
          "text": [
            "Epoch: 1/5, Train Accuracy: 94.6300048828125, Train Loss: 0.00011620024840037028, Test Accuracy: 98.57999420166016, Test Loss: 0.04744018118828535\n",
            "Epoch: 2/5, Train Accuracy: 98.4366683959961, Train Loss: 3.58390063047409e-05, Test Accuracy: 98.94999694824219, Test Loss: 0.03203894372330979\n",
            "Epoch: 3/5, Train Accuracy: 98.8800048828125, Train Loss: 6.255306303501129e-05, Test Accuracy: 99.04999542236328, Test Loss: 0.028834060807712378\n",
            "Epoch: 4/5, Train Accuracy: 99.05333709716797, Train Loss: 4.84237199028333e-05, Test Accuracy: 98.82999420166016, Test Loss: 0.033835942982695995\n",
            "Epoch: 5/5, Train Accuracy: 99.0683364868164, Train Loss: 1.4968571874002615e-05, Test Accuracy: 99.00999450683594, Test Loss: 0.029959587916964667\n"
          ]
        },
        {
          "output_type": "display_data",
          "data": {
            "text/plain": [
              "VBox(children=(Label(value='0.001 MB of 0.001 MB uploaded\\r'), FloatProgress(value=1.0, max=1.0)))"
            ],
            "application/vnd.jupyter.widget-view+json": {
              "version_major": 2,
              "version_minor": 0,
              "model_id": "0fe6f6fa73b54225bcc040b56335ec94"
            }
          },
          "metadata": {}
        },
        {
          "output_type": "display_data",
          "data": {
            "text/plain": [
              "<IPython.core.display.HTML object>"
            ],
            "text/html": [
              "<style>\n",
              "    table.wandb td:nth-child(1) { padding: 0 10px; text-align: left ; width: auto;} td:nth-child(2) {text-align: left ; width: 100%}\n",
              "    .wandb-row { display: flex; flex-direction: row; flex-wrap: wrap; justify-content: flex-start; width: 100% }\n",
              "    .wandb-col { display: flex; flex-direction: column; flex-basis: 100%; flex: 1; padding: 10px; }\n",
              "    </style>\n",
              "<div class=\"wandb-row\"><div class=\"wandb-col\"><h3>Run history:</h3><br/><table class=\"wandb\"><tr><td>Epoch</td><td>▁▃▅▆█</td></tr><tr><td>Test Accuracy</td><td>▁▇█▅▇</td></tr><tr><td>Test Loss</td><td>█▂▁▃▁</td></tr><tr><td>Train Accuracy</td><td>▁▇███</td></tr><tr><td>Train Loss</td><td>█▂▄▃▁</td></tr></table><br/></div><div class=\"wandb-col\"><h3>Run summary:</h3><br/><table class=\"wandb\"><tr><td>Epoch</td><td>5</td></tr><tr><td>Test Accuracy</td><td>99.00999</td></tr><tr><td>Test Loss</td><td>0.02996</td></tr><tr><td>Train Accuracy</td><td>99.06834</td></tr><tr><td>Train Loss</td><td>1e-05</td></tr></table><br/></div></div>"
            ]
          },
          "metadata": {}
        },
        {
          "output_type": "display_data",
          "data": {
            "text/plain": [
              "<IPython.core.display.HTML object>"
            ],
            "text/html": [
              " View run <strong style=\"color:#cdcd00\">major-meadow-4</strong> at: <a href='https://wandb.ai/personal-exp/CNN%20on%20MNIST/runs/qijngfj1' target=\"_blank\">https://wandb.ai/personal-exp/CNN%20on%20MNIST/runs/qijngfj1</a><br/>Synced 5 W&B file(s), 0 media file(s), 0 artifact file(s) and 0 other file(s)"
            ]
          },
          "metadata": {}
        },
        {
          "output_type": "display_data",
          "data": {
            "text/plain": [
              "<IPython.core.display.HTML object>"
            ],
            "text/html": [
              "Find logs at: <code>./wandb/run-20240323_151615-qijngfj1/logs</code>"
            ]
          },
          "metadata": {}
        },
        {
          "output_type": "stream",
          "name": "stdout",
          "text": [
            "Training is done\n"
          ]
        }
      ]
    },
    {
      "cell_type": "code",
      "source": [
        "# saving the model\n",
        "torch.save(cnn.state_dict(),'CNN-MNIST.pth')"
      ],
      "metadata": {
        "id": "-on-0lW0v_2g"
      },
      "execution_count": 32,
      "outputs": []
    },
    {
      "cell_type": "code",
      "source": [],
      "metadata": {
        "id": "ncT2QYQEuEHc"
      },
      "execution_count": null,
      "outputs": []
    }
  ]
}