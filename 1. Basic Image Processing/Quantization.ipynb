{
 "cells": [
  {
   "cell_type": "code",
   "execution_count": null,
   "metadata": {},
   "outputs": [],
   "source": [
    "import cv2\n",
    "import numpy as np\n",
    "\n",
    "# Load the image\n",
    "img = cv2.imread('face.jpg', cv2.IMREAD_GRAYSCALE)\n",
    "\n",
    "# Loop over number of bits\n",
    "for num_of_bit in range(1, 9):\n",
    "    # Quantize to given number of bits\n",
    "    num_of_level = 2**num_of_bit\n",
    "    level_gap = 256 / num_of_level\n",
    "    quantized_img = np.uint8(np.ceil(img / level_gap) * level_gap - 1)\n",
    "\n",
    "    # Display image\n",
    "    cv2.imshow(f'{num_of_bit}-bit Quantization', quantized_img)\n",
    "    cv2.waitKey(0)\n",
    "\n",
    "    # Save image\n",
    "    cv2.imwrite(f'Quantization_{num_of_bit}-bit.png', quantized_img)\n",
    "\n",
    "cv2.destroyAllWindows()"
   ]
  }
 ],
 "metadata": {
  "kernelspec": {
   "display_name": "Python 3",
   "language": "python",
   "name": "python3"
  },
  "language_info": {
   "name": "python",
   "version": "3.12.3"
  }
 },
 "nbformat": 4,
 "nbformat_minor": 2
}
