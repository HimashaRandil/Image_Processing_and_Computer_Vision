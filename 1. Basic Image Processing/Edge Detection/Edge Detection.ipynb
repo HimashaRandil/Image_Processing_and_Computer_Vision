{
 "cells": [
  {
   "cell_type": "code",
   "execution_count": 1,
   "metadata": {},
   "outputs": [],
   "source": [
    "import cv2\n",
    "import numpy as np\n",
    "import matplotlib.pyplot as plt"
   ]
  },
  {
   "cell_type": "code",
   "execution_count": 2,
   "metadata": {},
   "outputs": [],
   "source": [
    "# Function to apply Prewitt filter and visualize\n",
    "def apply_prewitt(image_path, title_prefix):\n",
    "    img = cv2.imread(image_path, cv2.IMREAD_GRAYSCALE)\n",
    "    img = img.astype(np.float32) / 255  # Normalize to 0-1 range\n",
    "\n",
    "    # Prewitt kernels\n",
    "    kernel_x = np.array([[-1, 0, 1], [-1, 0, 1], [-1, 0, 1]])\n",
    "    kernel_y = np.array([[-1, -1, -1], [0, 0, 0], [1, 1, 1]])\n",
    "\n",
    "    # Apply Prewitt filters\n",
    "    filtered_img_x = cv2.filter2D(img, -1, kernel_x)\n",
    "    filtered_img_y = cv2.filter2D(img, -1, kernel_y)\n",
    "\n",
    "    # Logarithmic scaling for better visualization\n",
    "    filtered_img_x = np.log(np.abs(filtered_img_x) + 1)\n",
    "    filtered_img_y = np.log(np.abs(filtered_img_y) + 1)\n",
    "\n",
    "    # Normalize to 0-1 range\n",
    "    filtered_img_x = filtered_img_x / np.max(filtered_img_x)\n",
    "    filtered_img_y = filtered_img_y / np.max(filtered_img_y)\n",
    "\n",
    "    # Display images using Matplotlib\n",
    "    plt.figure(figsize=(12, 4))\n",
    "    plt.subplot(1, 3, 1)\n",
    "    plt.imshow(img, cmap='gray')\n",
    "    plt.title('Original')\n",
    "\n",
    "    plt.subplot(1, 3, 2)\n",
    "    plt.imshow(filtered_img_x, cmap='gray')\n",
    "    plt.title(f'{title_prefix} Horizontal')\n",
    "\n",
    "    plt.subplot(1, 3, 3)\n",
    "    plt.imshow(filtered_img_y, cmap='gray')\n",
    "    plt.title(f'{title_prefix} Vertical')\n",
    "\n",
    "    plt.tight_layout()\n",
    "    plt.show()\n",
    "\n",
    "    # Save images\n",
    "    cv2.imwrite(f'{title_prefix}_horizontal.png', (filtered_img_x * 255).astype(np.uint8))\n",
    "    cv2.imwrite(f'{title_prefix}_vertical.png', (filtered_img_y * 255).astype(np.uint8))"
   ]
  }
 ],
 "metadata": {
  "kernelspec": {
   "display_name": "gnn",
   "language": "python",
   "name": "python3"
  },
  "language_info": {
   "codemirror_mode": {
    "name": "ipython",
    "version": 3
   },
   "file_extension": ".py",
   "mimetype": "text/x-python",
   "name": "python",
   "nbconvert_exporter": "python",
   "pygments_lexer": "ipython3",
   "version": "3.12.3"
  }
 },
 "nbformat": 4,
 "nbformat_minor": 2
}
